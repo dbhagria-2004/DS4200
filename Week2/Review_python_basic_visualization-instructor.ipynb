{
 "cells": [
  {
   "cell_type": "markdown",
   "id": "5838d063",
   "metadata": {},
   "source": [
    "## Review on basic Python data visualziation and data summary \n",
    "\n",
    "### Goal for today： \n",
    "\n",
    "- Review on basic data structure\n",
    "- Understand basic rules to choose figure type\n",
    "- Learn how to describe data and simple figures \n",
    "- Review basic plotting options in Python (matplotlib and seaborn)\n"
   ]
  },
  {
   "cell_type": "markdown",
   "id": "9fe22beb",
   "metadata": {},
   "source": [
    "### Describing a data set\n",
    "\n",
    "In a data table (also called ``data matrix\"), like the one below. There are two dimensions in the data: \n",
    "\n",
    "- Observations: each individual subject, case, or sample point (rows, represented with $n$)\n",
    "- Variables/Feature: characteristics that are recorded for each subject in the sample (columns, represented with $p$)\n"
   ]
  },
  {
   "cell_type": "code",
   "execution_count": null,
   "id": "1102d2b5",
   "metadata": {},
   "outputs": [],
   "source": [
    "#pip install pandas matplotlib seaborn"
   ]
  },
  {
   "cell_type": "code",
   "execution_count": 2,
   "id": "1c074044",
   "metadata": {},
   "outputs": [
    {
     "data": {
      "text/html": [
       "<div>\n",
       "<style scoped>\n",
       "    .dataframe tbody tr th:only-of-type {\n",
       "        vertical-align: middle;\n",
       "    }\n",
       "\n",
       "    .dataframe tbody tr th {\n",
       "        vertical-align: top;\n",
       "    }\n",
       "\n",
       "    .dataframe thead th {\n",
       "        text-align: right;\n",
       "    }\n",
       "</style>\n",
       "<table border=\"1\" class=\"dataframe\">\n",
       "  <thead>\n",
       "    <tr style=\"text-align: right;\">\n",
       "      <th></th>\n",
       "      <th>ID</th>\n",
       "      <th>Status</th>\n",
       "      <th>Age</th>\n",
       "      <th>Sex</th>\n",
       "      <th>Race</th>\n",
       "      <th>Service</th>\n",
       "      <th>Cancer</th>\n",
       "      <th>Renal</th>\n",
       "      <th>Infection</th>\n",
       "      <th>CPR</th>\n",
       "      <th>...</th>\n",
       "      <th>HeartRate</th>\n",
       "      <th>Previous</th>\n",
       "      <th>Type</th>\n",
       "      <th>Fracture</th>\n",
       "      <th>PO2</th>\n",
       "      <th>PH</th>\n",
       "      <th>PCO2</th>\n",
       "      <th>Bicarbonate</th>\n",
       "      <th>Creatinine</th>\n",
       "      <th>Consciousness</th>\n",
       "    </tr>\n",
       "  </thead>\n",
       "  <tbody>\n",
       "    <tr>\n",
       "      <th>0</th>\n",
       "      <td>8</td>\n",
       "      <td>survived</td>\n",
       "      <td>27</td>\n",
       "      <td>1</td>\n",
       "      <td>1</td>\n",
       "      <td>0</td>\n",
       "      <td>0</td>\n",
       "      <td>0</td>\n",
       "      <td>1</td>\n",
       "      <td>0</td>\n",
       "      <td>...</td>\n",
       "      <td>88</td>\n",
       "      <td>0</td>\n",
       "      <td>1</td>\n",
       "      <td>0</td>\n",
       "      <td>0</td>\n",
       "      <td>0</td>\n",
       "      <td>0</td>\n",
       "      <td>0</td>\n",
       "      <td>0</td>\n",
       "      <td>1</td>\n",
       "    </tr>\n",
       "    <tr>\n",
       "      <th>1</th>\n",
       "      <td>12</td>\n",
       "      <td>survived</td>\n",
       "      <td>59</td>\n",
       "      <td>0</td>\n",
       "      <td>1</td>\n",
       "      <td>0</td>\n",
       "      <td>0</td>\n",
       "      <td>0</td>\n",
       "      <td>0</td>\n",
       "      <td>0</td>\n",
       "      <td>...</td>\n",
       "      <td>80</td>\n",
       "      <td>1</td>\n",
       "      <td>1</td>\n",
       "      <td>0</td>\n",
       "      <td>0</td>\n",
       "      <td>0</td>\n",
       "      <td>0</td>\n",
       "      <td>0</td>\n",
       "      <td>0</td>\n",
       "      <td>1</td>\n",
       "    </tr>\n",
       "    <tr>\n",
       "      <th>2</th>\n",
       "      <td>14</td>\n",
       "      <td>survived</td>\n",
       "      <td>77</td>\n",
       "      <td>0</td>\n",
       "      <td>1</td>\n",
       "      <td>1</td>\n",
       "      <td>0</td>\n",
       "      <td>0</td>\n",
       "      <td>0</td>\n",
       "      <td>0</td>\n",
       "      <td>...</td>\n",
       "      <td>70</td>\n",
       "      <td>0</td>\n",
       "      <td>0</td>\n",
       "      <td>0</td>\n",
       "      <td>0</td>\n",
       "      <td>0</td>\n",
       "      <td>0</td>\n",
       "      <td>0</td>\n",
       "      <td>0</td>\n",
       "      <td>1</td>\n",
       "    </tr>\n",
       "    <tr>\n",
       "      <th>3</th>\n",
       "      <td>28</td>\n",
       "      <td>survived</td>\n",
       "      <td>54</td>\n",
       "      <td>0</td>\n",
       "      <td>1</td>\n",
       "      <td>0</td>\n",
       "      <td>0</td>\n",
       "      <td>0</td>\n",
       "      <td>1</td>\n",
       "      <td>0</td>\n",
       "      <td>...</td>\n",
       "      <td>103</td>\n",
       "      <td>0</td>\n",
       "      <td>1</td>\n",
       "      <td>1</td>\n",
       "      <td>0</td>\n",
       "      <td>0</td>\n",
       "      <td>0</td>\n",
       "      <td>0</td>\n",
       "      <td>0</td>\n",
       "      <td>1</td>\n",
       "    </tr>\n",
       "    <tr>\n",
       "      <th>4</th>\n",
       "      <td>32</td>\n",
       "      <td>survived</td>\n",
       "      <td>87</td>\n",
       "      <td>1</td>\n",
       "      <td>1</td>\n",
       "      <td>1</td>\n",
       "      <td>0</td>\n",
       "      <td>0</td>\n",
       "      <td>1</td>\n",
       "      <td>0</td>\n",
       "      <td>...</td>\n",
       "      <td>154</td>\n",
       "      <td>1</td>\n",
       "      <td>1</td>\n",
       "      <td>0</td>\n",
       "      <td>0</td>\n",
       "      <td>0</td>\n",
       "      <td>0</td>\n",
       "      <td>0</td>\n",
       "      <td>0</td>\n",
       "      <td>1</td>\n",
       "    </tr>\n",
       "  </tbody>\n",
       "</table>\n",
       "<p>5 rows × 21 columns</p>\n",
       "</div>"
      ],
      "text/plain": [
       "   ID    Status  Age  Sex  Race  Service  Cancer  Renal  Infection  CPR  ...  \\\n",
       "0   8  survived   27    1     1        0       0      0          1    0  ...   \n",
       "1  12  survived   59    0     1        0       0      0          0    0  ...   \n",
       "2  14  survived   77    0     1        1       0      0          0    0  ...   \n",
       "3  28  survived   54    0     1        0       0      0          1    0  ...   \n",
       "4  32  survived   87    1     1        1       0      0          1    0  ...   \n",
       "\n",
       "   HeartRate  Previous  Type  Fracture  PO2  PH  PCO2  Bicarbonate  \\\n",
       "0         88         0     1         0    0   0     0            0   \n",
       "1         80         1     1         0    0   0     0            0   \n",
       "2         70         0     0         0    0   0     0            0   \n",
       "3        103         0     1         1    0   0     0            0   \n",
       "4        154         1     1         0    0   0     0            0   \n",
       "\n",
       "   Creatinine  Consciousness  \n",
       "0           0              1  \n",
       "1           0              1  \n",
       "2           0              1  \n",
       "3           0              1  \n",
       "4           0              1  \n",
       "\n",
       "[5 rows x 21 columns]"
      ]
     },
     "execution_count": 2,
     "metadata": {},
     "output_type": "execute_result"
    }
   ],
   "source": [
    "import pandas as pd\n",
    "df = pd.read_csv('ICUAdmissions.csv')\n",
    "df['Status'] = df['Status'].map({0: 'survived', 1:'dead'})\n",
    "df.head()"
   ]
  },
  {
   "cell_type": "markdown",
   "id": "7f6746d1",
   "metadata": {},
   "source": [
    "### Describing variables\n",
    "\n",
    "There are at least two ways to describe variables:\n",
    "\t\t\n",
    "By value type:\n",
    "\t\t\n",
    "- Numerical variables: take on numerical values with meaning Mathematical operations like addition, etc. must make sense\n",
    "- Categorical variables: take on names, categories, or labels Categories are sometimes represented by numbers...\n",
    "\n",
    "By function:\n",
    "\t\t\n",
    "- Response variable/Target: defined by the particular research question a study seeks to address, and measures the outcome of interest in the study\n",
    "- Explanatory variable/Feature: a secondary variable(s) that explains changes in the response variable"
   ]
  },
  {
   "cell_type": "markdown",
   "id": "602a2abe-d8cf-4ba5-b675-c721094b8cbb",
   "metadata": {},
   "source": [
    "### Important terminology clarification\n",
    "\n",
    "- feature\n",
    "- variable\n",
    "- attribute"
   ]
  },
  {
   "cell_type": "markdown",
   "id": "d921ea03",
   "metadata": {},
   "source": [
    "### In-class activities\n",
    "\n",
    "Suppose my research question is \"What factors may be related to the heart rate in ICU admissions?\" Try to make three data viasualizations. \n",
    "\n",
    "Things you need to decide: \n",
    "- What features I want to choose for the data visualizaiton?\n",
    "- What type of figures I will choose? \n",
    "- What information I want to achieve from the data visualization?\n",
    "- ......\n"
   ]
  },
  {
   "cell_type": "code",
   "execution_count": 3,
   "id": "7b9d8948",
   "metadata": {},
   "outputs": [],
   "source": [
    "# Example 1:"
   ]
  },
  {
   "cell_type": "code",
   "execution_count": 4,
   "id": "7c16512d",
   "metadata": {},
   "outputs": [],
   "source": [
    "# Example 2: "
   ]
  },
  {
   "cell_type": "code",
   "execution_count": 5,
   "id": "adce3ff1",
   "metadata": {},
   "outputs": [],
   "source": [
    "# Example 3: "
   ]
  },
  {
   "cell_type": "markdown",
   "id": "4ebd2758",
   "metadata": {},
   "source": [
    "### Basic data visualization choices\n",
    "\n",
    "Numerical variable = continous variable + discrete variable\n",
    "\n",
    "Here is a general guideline for the type of plots: \n",
    "\n",
    "- One categorical: bar plot\n",
    "- One continous: histogram/density plot/boxplot\n",
    "- Two continous: scatter plot\n",
    "- One categorical and one continous: side-by-side boxplot\n",
    "- Two categorical: side-by-side bar plot "
   ]
  },
  {
   "cell_type": "markdown",
   "id": "a9de79fe",
   "metadata": {},
   "source": [
    "#### One categorical: bar plot"
   ]
  },
  {
   "cell_type": "code",
   "execution_count": 6,
   "id": "20682663",
   "metadata": {},
   "outputs": [
    {
     "data": {
      "image/png": "[encoded data removed]",
      "text/plain": [
       "<Figure size 640x480 with 1 Axes>"
      ]
     },
     "metadata": {},
     "output_type": "display_data"
    }
   ],
   "source": [
    "import matplotlib.pyplot as plt\n",
    "import seaborn as sns\n",
    "\n",
    "sns.countplot(data = df, x = 'Status')\n",
    "plt.title('Status count in ICU Admissions')\n",
    "plt.xlabel(\"Status of the patients\")\n",
    "plt.ylabel('Count')\n",
    "plt.show()"
   ]
  },
  {
   "cell_type": "code",
   "execution_count": 11,
   "id": "1ba2916e",
   "metadata": {},
   "outputs": [
    {
     "data": {
      "image/png": "[encoded data removed]",
      "text/plain": [
       "<Figure size 640x480 with 1 Axes>"
      ]
     },
     "metadata": {},
     "output_type": "display_data"
    }
   ],
   "source": [
    "status_counts = df['Status'].value_counts(normalize = True)*100\n",
    "status_counts\n",
    "\n",
    "sns.barplot(x = status_counts.index, y = status_counts.values)\n",
    "plt.xlabel('Status')\n",
    "plt.ylabel('Percentage')\n",
    "plt.title('Status percentage in ICU Admissions')\n",
    "plt.show()"
   ]
  },
  {
   "cell_type": "code",
   "execution_count": 26,
   "id": "00970b07",
   "metadata": {},
   "outputs": [],
   "source": [
    "\n",
    "# Display the percentage values above the bars (optional)\n",
    "#for i, value in enumerate(status_counts.values):\n",
    "#    plt.text(i, value + 1, f'{value:.2f}%', ha='center')\n",
    "#plt.show()"
   ]
  },
  {
   "cell_type": "markdown",
   "id": "69da1f69-c1d4-4d71-a787-9be0aa255ca7",
   "metadata": {},
   "source": [
    "##### What to write about a bar plot\n",
    "\n",
    "- What is this plot? (what features?)\n",
    "- Percentage/Count for each bar\n",
    "- Is there a clear deifference on the percentage/count\n",
    "\n",
    "The figure is about the number of people survived in ICU Admissions. Among the 200 patients, 40 of them dead in the ICU while the other 160 survived. The difference is clear between the groups. "
   ]
  },
  {
   "cell_type": "markdown",
   "id": "badb7799",
   "metadata": {},
   "source": [
    "#### One continous: histogram/density plot/boxplot"
   ]
  },
  {
   "cell_type": "code",
   "execution_count": 18,
   "id": "03ba1eef",
   "metadata": {},
   "outputs": [
    {
     "name": "stderr",
     "output_type": "stream",
     "text": [
      "c:\\Users\\yangx\\anaconda3\\Lib\\site-packages\\seaborn\\_oldcore.py:1119: FutureWarning: use_inf_as_na option is deprecated and will be removed in a future version. Convert inf values to NaN before operating instead.\n",
      "  with pd.option_context('mode.use_inf_as_na', True):\n"
     ]
    },
    {
     "data": {
      "image/png": "[encoded data removed]",
      "text/plain": [
       "<Figure size 640x480 with 1 Axes>"
      ]
     },
     "metadata": {},
     "output_type": "display_data"
    }
   ],
   "source": [
    "sns.histplot(df['HeartRate'], bins = 20, kde = True, kde_kws = {'bw_method': 0.8})\n",
    "plt.title('Heart Rate distribution in ICU Admissions')\n",
    "plt.show()"
   ]
  },
  {
   "cell_type": "code",
   "execution_count": 21,
   "id": "6c246e3c",
   "metadata": {},
   "outputs": [
    {
     "name": "stderr",
     "output_type": "stream",
     "text": [
      "c:\\Users\\yangx\\anaconda3\\Lib\\site-packages\\seaborn\\_oldcore.py:1119: FutureWarning: use_inf_as_na option is deprecated and will be removed in a future version. Convert inf values to NaN before operating instead.\n",
      "  with pd.option_context('mode.use_inf_as_na', True):\n"
     ]
    },
    {
     "data": {
      "image/png": "[encoded data removed]",
      "text/plain": [
       "<Figure size 640x480 with 1 Axes>"
      ]
     },
     "metadata": {},
     "output_type": "display_data"
    }
   ],
   "source": [
    "sns.kdeplot(df['HeartRate'], bw_adjust = 0.6, fill = True)\n",
    "plt.xlabel('Heart Rate')\n",
    "plt.ylabel(\"Density\")\n",
    "plt.title('Heart Rate distribution in ICU Admissions')\n",
    "plt.show()"
   ]
  },
  {
   "cell_type": "code",
   "execution_count": 25,
   "id": "f02fb298",
   "metadata": {},
   "outputs": [
    {
     "data": {
      "image/png": "[encoded data removed]",
      "text/plain": [
       "<Figure size 640x480 with 1 Axes>"
      ]
     },
     "metadata": {},
     "output_type": "display_data"
    }
   ],
   "source": [
    "sns.boxplot(data = df, y = 'HeartRate')\n",
    "plt.title('The boxplot of the heart rate in ICU Admissions')\n",
    "plt.show()"
   ]
  },
  {
   "cell_type": "code",
   "execution_count": 26,
   "id": "80048e58",
   "metadata": {},
   "outputs": [
    {
     "data": {
      "text/plain": [
       "count    200.00000\n",
       "mean      98.92500\n",
       "std       26.82962\n",
       "min       39.00000\n",
       "25%       80.00000\n",
       "50%       96.00000\n",
       "75%      118.25000\n",
       "max      192.00000\n",
       "Name: HeartRate, dtype: float64"
      ]
     },
     "execution_count": 26,
     "metadata": {},
     "output_type": "execute_result"
    }
   ],
   "source": [
    "df['HeartRate'].describe()"
   ]
  },
  {
   "cell_type": "markdown",
   "id": "840e2b77",
   "metadata": {},
   "source": [
    "##### Difference between histogram/density plot/ boxplot\n",
    "\n",
    "- Histogram and density plot emphasizes on the distribution (shape) of the data\n",
    "- Boxplot emphasizes the statistics of the data (median, IQR)\n",
    "- Boxplot cannot catch the distribution information, like bi-mode\n",
    "- Histogram needs to choose the bin number and density plot needs to choose the bandwidth"
   ]
  },
  {
   "cell_type": "markdown",
   "id": "385f5a18",
   "metadata": {},
   "source": [
    "##### Difference between histogram and bar plot\n",
    "\n",
    "- Histogram is for the continous variable while bar plot is for the cateogrical variable\n",
    "- Historgram is almost always veritical but bar plot can be horizontal\n",
    "- Histogram usually does not have spaces between bars while bar plot can have\n",
    "- Histogram's bar cannot change the order but bar plot can"
   ]
  },
  {
   "cell_type": "markdown",
   "id": "bf2490da-34c6-4e3c-b6a8-c07b6846e6de",
   "metadata": {},
   "source": [
    "##### What to write about a histogram/density plot\n",
    "\n",
    "- shape(skewness and mode)\n",
    "- majority of the data (typical value = mean $\\pm$ sd)\n",
    "- potential outlier"
   ]
  },
  {
   "cell_type": "markdown",
   "id": "0f5723a4-3c2b-405c-8261-99799768ad7c",
   "metadata": {},
   "source": [
    "<img src=\"https://www.biologyforlife.com/uploads/2/2/3/9/22392738/c101b0da6ea1a0dab31f80d9963b0368_orig.png\" width=\"700\" height=\"300\">"
   ]
  },
  {
   "cell_type": "markdown",
   "id": "a80eed86-a3bc-4972-82c4-ae6397d2ab68",
   "metadata": {},
   "source": [
    "Histogram: The figure is the distribution of heart rate in ICU Admissions. The heart rate has a uni-mode but it is slightly skewed to the right, which means it may have a potential outlier with large value. The typical value is within the range 98.9 $\\pm$ 26.8. "
   ]
  },
  {
   "cell_type": "markdown",
   "id": "250be839-d801-4d81-a4cb-6e263b17e5bd",
   "metadata": {},
   "source": [
    "##### What to write about a box plot\n",
    "\n",
    "- "
   ]
  },
  {
   "cell_type": "markdown",
   "id": "a336fc4a",
   "metadata": {},
   "source": [
    "#### Two continous: scatter plot"
   ]
  },
  {
   "cell_type": "code",
   "execution_count": null,
   "id": "e1acabd1",
   "metadata": {},
   "outputs": [],
   "source": []
  },
  {
   "cell_type": "markdown",
   "id": "1a0c2f5b",
   "metadata": {},
   "source": [
    "##### What to write about a scatter plot\n",
    "\n",
    "- \n"
   ]
  },
  {
   "cell_type": "markdown",
   "id": "15cfa937",
   "metadata": {},
   "source": [
    "#### Some bad example of the scatter plot"
   ]
  },
  {
   "cell_type": "code",
   "execution_count": null,
   "id": "52ccfb4b",
   "metadata": {},
   "outputs": [],
   "source": []
  },
  {
   "cell_type": "code",
   "execution_count": null,
   "id": "c40a1a55",
   "metadata": {},
   "outputs": [],
   "source": []
  },
  {
   "cell_type": "markdown",
   "id": "22614331",
   "metadata": {},
   "source": [
    "#### One categorical and one continous: side-by-side boxplot\n",
    "\n",
    "Other choices include side-by-side density plot"
   ]
  },
  {
   "cell_type": "code",
   "execution_count": null,
   "id": "fc7455a1",
   "metadata": {},
   "outputs": [],
   "source": []
  },
  {
   "cell_type": "code",
   "execution_count": null,
   "id": "1dbf09a9",
   "metadata": {},
   "outputs": [],
   "source": []
  },
  {
   "cell_type": "markdown",
   "id": "6be1f5b1",
   "metadata": {},
   "source": [
    "##### What to write about a side-by-side boxplot or density plot\n",
    "\n",
    "- \n"
   ]
  },
  {
   "cell_type": "markdown",
   "id": "471ac290",
   "metadata": {},
   "source": [
    "#### Two categorical: side-by-side bar plot"
   ]
  },
  {
   "cell_type": "code",
   "execution_count": null,
   "id": "c135ba13",
   "metadata": {},
   "outputs": [],
   "source": []
  },
  {
   "cell_type": "code",
   "execution_count": null,
   "id": "939bf49f-266c-4001-a203-166d6d28bdb8",
   "metadata": {},
   "outputs": [],
   "source": []
  },
  {
   "cell_type": "code",
   "execution_count": null,
   "id": "8b961719-bd63-44c5-b26a-92badd5de994",
   "metadata": {},
   "outputs": [],
   "source": []
  },
  {
   "cell_type": "markdown",
   "id": "941f3b9b",
   "metadata": {},
   "source": [
    "##### What to write about a side-by-side bar plot\n",
    "\n",
    "- "
   ]
  },
  {
   "cell_type": "markdown",
   "id": "96a9b132",
   "metadata": {},
   "source": [
    "### In-class activities: Try to make data visualizaiton by yourself\n",
    "\n",
    "See the data with about Titanic. Try to make three data visualization to study how other features affect the \"survived\" (whether the person survived from the Titanic disaster). Once you finish, show your figures to the neighbors and describe the figures to them. \n",
    "\n",
    "Note: This is not a complete data, feel free to remove the missing valuesv(or do any other data pre-processing) before you making the plots. "
   ]
  },
  {
   "cell_type": "code",
   "execution_count": 5,
   "id": "2356da5f",
   "metadata": {},
   "outputs": [
    {
     "name": "stdout",
     "output_type": "stream",
     "text": [
      "   survived  pclass     sex   age  sibsp  parch     fare embarked  class  \\\n",
      "0         0       3    male  22.0      1      0   7.2500        S  Third   \n",
      "1         1       1  female  38.0      1      0  71.2833        C  First   \n",
      "2         1       3  female  26.0      0      0   7.9250        S  Third   \n",
      "3         1       1  female  35.0      1      0  53.1000        S  First   \n",
      "4         0       3    male  35.0      0      0   8.0500        S  Third   \n",
      "\n",
      "     who  adult_male deck  embark_town alive  alone  \n",
      "0    man        True  NaN  Southampton    no  False  \n",
      "1  woman       False    C    Cherbourg   yes  False  \n",
      "2  woman       False  NaN  Southampton   yes   True  \n",
      "3  woman       False    C  Southampton   yes  False  \n",
      "4    man        True  NaN  Southampton    no   True  \n"
     ]
    }
   ],
   "source": [
    "import seaborn as sns\n",
    "import matplotlib.pyplot as plt\n",
    "titanic_data = sns.load_dataset('titanic')\n",
    "print(titanic_data.head())"
   ]
  },
  {
   "cell_type": "code",
   "execution_count": 20,
   "id": "0ae2eb37",
   "metadata": {},
   "outputs": [
    {
     "data": {
      "text/html": [
       "<div>\n",
       "<style scoped>\n",
       "    .dataframe tbody tr th:only-of-type {\n",
       "        vertical-align: middle;\n",
       "    }\n",
       "\n",
       "    .dataframe tbody tr th {\n",
       "        vertical-align: top;\n",
       "    }\n",
       "\n",
       "    .dataframe thead th {\n",
       "        text-align: right;\n",
       "    }\n",
       "</style>\n",
       "<table border=\"1\" class=\"dataframe\">\n",
       "  <thead>\n",
       "    <tr style=\"text-align: right;\">\n",
       "      <th></th>\n",
       "      <th>survived</th>\n",
       "      <th>pclass</th>\n",
       "      <th>sex</th>\n",
       "      <th>age</th>\n",
       "      <th>sibsp</th>\n",
       "      <th>parch</th>\n",
       "      <th>fare</th>\n",
       "      <th>embarked</th>\n",
       "      <th>class</th>\n",
       "      <th>who</th>\n",
       "      <th>adult_male</th>\n",
       "      <th>deck</th>\n",
       "      <th>embark_town</th>\n",
       "      <th>alive</th>\n",
       "      <th>alone</th>\n",
       "    </tr>\n",
       "  </thead>\n",
       "  <tbody>\n",
       "    <tr>\n",
       "      <th>0</th>\n",
       "      <td>0</td>\n",
       "      <td>3</td>\n",
       "      <td>male</td>\n",
       "      <td>22.0</td>\n",
       "      <td>1</td>\n",
       "      <td>0</td>\n",
       "      <td>7.2500</td>\n",
       "      <td>S</td>\n",
       "      <td>Third</td>\n",
       "      <td>man</td>\n",
       "      <td>True</td>\n",
       "      <td>NaN</td>\n",
       "      <td>Southampton</td>\n",
       "      <td>no</td>\n",
       "      <td>False</td>\n",
       "    </tr>\n",
       "    <tr>\n",
       "      <th>1</th>\n",
       "      <td>1</td>\n",
       "      <td>1</td>\n",
       "      <td>female</td>\n",
       "      <td>38.0</td>\n",
       "      <td>1</td>\n",
       "      <td>0</td>\n",
       "      <td>71.2833</td>\n",
       "      <td>C</td>\n",
       "      <td>First</td>\n",
       "      <td>woman</td>\n",
       "      <td>False</td>\n",
       "      <td>C</td>\n",
       "      <td>Cherbourg</td>\n",
       "      <td>yes</td>\n",
       "      <td>False</td>\n",
       "    </tr>\n",
       "    <tr>\n",
       "      <th>2</th>\n",
       "      <td>1</td>\n",
       "      <td>3</td>\n",
       "      <td>female</td>\n",
       "      <td>26.0</td>\n",
       "      <td>0</td>\n",
       "      <td>0</td>\n",
       "      <td>7.9250</td>\n",
       "      <td>S</td>\n",
       "      <td>Third</td>\n",
       "      <td>woman</td>\n",
       "      <td>False</td>\n",
       "      <td>NaN</td>\n",
       "      <td>Southampton</td>\n",
       "      <td>yes</td>\n",
       "      <td>True</td>\n",
       "    </tr>\n",
       "    <tr>\n",
       "      <th>3</th>\n",
       "      <td>1</td>\n",
       "      <td>1</td>\n",
       "      <td>female</td>\n",
       "      <td>35.0</td>\n",
       "      <td>1</td>\n",
       "      <td>0</td>\n",
       "      <td>53.1000</td>\n",
       "      <td>S</td>\n",
       "      <td>First</td>\n",
       "      <td>woman</td>\n",
       "      <td>False</td>\n",
       "      <td>C</td>\n",
       "      <td>Southampton</td>\n",
       "      <td>yes</td>\n",
       "      <td>False</td>\n",
       "    </tr>\n",
       "    <tr>\n",
       "      <th>4</th>\n",
       "      <td>0</td>\n",
       "      <td>3</td>\n",
       "      <td>male</td>\n",
       "      <td>35.0</td>\n",
       "      <td>0</td>\n",
       "      <td>0</td>\n",
       "      <td>8.0500</td>\n",
       "      <td>S</td>\n",
       "      <td>Third</td>\n",
       "      <td>man</td>\n",
       "      <td>True</td>\n",
       "      <td>NaN</td>\n",
       "      <td>Southampton</td>\n",
       "      <td>no</td>\n",
       "      <td>True</td>\n",
       "    </tr>\n",
       "    <tr>\n",
       "      <th>5</th>\n",
       "      <td>0</td>\n",
       "      <td>3</td>\n",
       "      <td>male</td>\n",
       "      <td>NaN</td>\n",
       "      <td>0</td>\n",
       "      <td>0</td>\n",
       "      <td>8.4583</td>\n",
       "      <td>Q</td>\n",
       "      <td>Third</td>\n",
       "      <td>man</td>\n",
       "      <td>True</td>\n",
       "      <td>NaN</td>\n",
       "      <td>Queenstown</td>\n",
       "      <td>no</td>\n",
       "      <td>True</td>\n",
       "    </tr>\n",
       "    <tr>\n",
       "      <th>6</th>\n",
       "      <td>0</td>\n",
       "      <td>1</td>\n",
       "      <td>male</td>\n",
       "      <td>54.0</td>\n",
       "      <td>0</td>\n",
       "      <td>0</td>\n",
       "      <td>51.8625</td>\n",
       "      <td>S</td>\n",
       "      <td>First</td>\n",
       "      <td>man</td>\n",
       "      <td>True</td>\n",
       "      <td>E</td>\n",
       "      <td>Southampton</td>\n",
       "      <td>no</td>\n",
       "      <td>True</td>\n",
       "    </tr>\n",
       "    <tr>\n",
       "      <th>7</th>\n",
       "      <td>0</td>\n",
       "      <td>3</td>\n",
       "      <td>male</td>\n",
       "      <td>2.0</td>\n",
       "      <td>3</td>\n",
       "      <td>1</td>\n",
       "      <td>21.0750</td>\n",
       "      <td>S</td>\n",
       "      <td>Third</td>\n",
       "      <td>child</td>\n",
       "      <td>False</td>\n",
       "      <td>NaN</td>\n",
       "      <td>Southampton</td>\n",
       "      <td>no</td>\n",
       "      <td>False</td>\n",
       "    </tr>\n",
       "    <tr>\n",
       "      <th>8</th>\n",
       "      <td>1</td>\n",
       "      <td>3</td>\n",
       "      <td>female</td>\n",
       "      <td>27.0</td>\n",
       "      <td>0</td>\n",
       "      <td>2</td>\n",
       "      <td>11.1333</td>\n",
       "      <td>S</td>\n",
       "      <td>Third</td>\n",
       "      <td>woman</td>\n",
       "      <td>False</td>\n",
       "      <td>NaN</td>\n",
       "      <td>Southampton</td>\n",
       "      <td>yes</td>\n",
       "      <td>False</td>\n",
       "    </tr>\n",
       "    <tr>\n",
       "      <th>9</th>\n",
       "      <td>1</td>\n",
       "      <td>2</td>\n",
       "      <td>female</td>\n",
       "      <td>14.0</td>\n",
       "      <td>1</td>\n",
       "      <td>0</td>\n",
       "      <td>30.0708</td>\n",
       "      <td>C</td>\n",
       "      <td>Second</td>\n",
       "      <td>child</td>\n",
       "      <td>False</td>\n",
       "      <td>NaN</td>\n",
       "      <td>Cherbourg</td>\n",
       "      <td>yes</td>\n",
       "      <td>False</td>\n",
       "    </tr>\n",
       "  </tbody>\n",
       "</table>\n",
       "</div>"
      ],
      "text/plain": [
       "   survived  pclass     sex   age  sibsp  parch     fare embarked   class  \\\n",
       "0         0       3    male  22.0      1      0   7.2500        S   Third   \n",
       "1         1       1  female  38.0      1      0  71.2833        C   First   \n",
       "2         1       3  female  26.0      0      0   7.9250        S   Third   \n",
       "3         1       1  female  35.0      1      0  53.1000        S   First   \n",
       "4         0       3    male  35.0      0      0   8.0500        S   Third   \n",
       "5         0       3    male   NaN      0      0   8.4583        Q   Third   \n",
       "6         0       1    male  54.0      0      0  51.8625        S   First   \n",
       "7         0       3    male   2.0      3      1  21.0750        S   Third   \n",
       "8         1       3  female  27.0      0      2  11.1333        S   Third   \n",
       "9         1       2  female  14.0      1      0  30.0708        C  Second   \n",
       "\n",
       "     who  adult_male deck  embark_town alive  alone  \n",
       "0    man        True  NaN  Southampton    no  False  \n",
       "1  woman       False    C    Cherbourg   yes  False  \n",
       "2  woman       False  NaN  Southampton   yes   True  \n",
       "3  woman       False    C  Southampton   yes  False  \n",
       "4    man        True  NaN  Southampton    no   True  \n",
       "5    man        True  NaN   Queenstown    no   True  \n",
       "6    man        True    E  Southampton    no   True  \n",
       "7  child       False  NaN  Southampton    no  False  \n",
       "8  woman       False  NaN  Southampton   yes  False  \n",
       "9  child       False  NaN    Cherbourg   yes  False  "
      ]
     },
     "execution_count": 20,
     "metadata": {},
     "output_type": "execute_result"
    }
   ],
   "source": [
    "import pandas as pd\n",
    "df = pd.DataFrame(titanic_data)\n",
    "\n",
    "df.head(10)"
   ]
  },
  {
   "cell_type": "code",
   "execution_count": 29,
   "id": "c0501f61",
   "metadata": {},
   "outputs": [
    {
     "data": {
      "image/png": "[encoded data removed]",
      "text/plain": [
       "<Figure size 640x480 with 1 Axes>"
      ]
     },
     "metadata": {},
     "output_type": "display_data"
    }
   ],
   "source": [
    "import matplotlib.pyplot as plt\n",
    "import pandas as pd\n",
    "\n",
    "# Drop missing values in 'sex' and 'survived'\n",
    "df = titanic_data.dropna(subset=['sex', 'survived'])\n",
    "\n",
    "# Group by sex and survival\n",
    "sex_survival = df.groupby(['sex', 'survived']).size().unstack()\n",
    "\n",
    "# Plot\n",
    "sex_survival.plot(kind='bar', stacked=True, color=['red', 'blue'])\n",
    "plt.xlabel(\"Sex\")\n",
    "plt.ylabel(\"Passenger Count\")\n",
    "plt.title(\"Survival by Sex\")\n",
    "plt.legend(title=\"Survived\", labels=[\"No\", \"Yes\"])\n",
    "plt.tight_layout()\n",
    "plt.show()\n"
   ]
  },
  {
   "cell_type": "code",
   "execution_count": 31,
   "id": "46ad9771",
   "metadata": {},
   "outputs": [
    {
     "name": "stderr",
     "output_type": "stream",
     "text": [
      "C:\\Users\\dbhagria\\AppData\\Local\\Temp\\ipykernel_4692\\854542658.py:5: FutureWarning: The default of observed=False is deprecated and will be changed to True in a future version of pandas. Pass observed=False to retain current behavior or observed=True to adopt the future default and silence this warning.\n",
      "  class_survival = df.groupby(['class', 'survived']).size().unstack()\n"
     ]
    },
    {
     "data": {
      "image/png": "[encoded data removed]",
      "text/plain": [
       "<Figure size 640x480 with 1 Axes>"
      ]
     },
     "metadata": {},
     "output_type": "display_data"
    }
   ],
   "source": [
    "# Drop missing values in 'class' and 'survived'\n",
    "df = titanic_data.dropna(subset=['class', 'survived'])\n",
    "\n",
    "# Group by class and survival\n",
    "class_survival = df.groupby(['class', 'survived']).size().unstack()\n",
    "\n",
    "# Plot\n",
    "class_survival.plot(kind='bar', stacked=True, color=['red', 'blue'])\n",
    "plt.xlabel(\"Passenger Class\")\n",
    "plt.ylabel(\"Passenger Count\")\n",
    "plt.title(\"Survival by Class\")\n",
    "plt.legend(title=\"Survived\", labels=[\"No\", \"Yes\"])\n",
    "plt.tight_layout()\n",
    "plt.show()\n"
   ]
  },
  {
   "cell_type": "code",
   "execution_count": null,
   "id": "68e15cc8",
   "metadata": {},
   "outputs": [
    {
     "name": "stderr",
     "output_type": "stream",
     "text": [
      "C:\\Users\\dbhagria\\AppData\\Local\\Temp\\ipykernel_4692\\3270582793.py:9: FutureWarning: The default of observed=False is deprecated and will be changed to True in a future version of pandas. Pass observed=False to retain current behavior or observed=True to adopt the future default and silence this warning.\n",
      "  age_group_survival = df.groupby(['age_group', 'survived']).size().unstack()\n"
     ]
    },
    {
     "data": {
      "image/png": "[encoded data removed]",
      "text/plain": [
       "<Figure size 640x480 with 1 Axes>"
      ]
     },
     "metadata": {},
     "output_type": "display_data"
    }
   ],
   "source": [
    "# Create age groups\n",
    "\n",
    "bins=[0, 12, 20, 40, 60, 80]\n",
    "labels=[\"Child\", \"Teen\", \"Adult\", \"Middle Age\", \"Senior\"]\n",
    "\n",
    "df['age_group'] = pd.cut(df['age'], bins=bins, labels= labels)\n",
    "\n",
    "age_group_survival = df.groupby(['age_group', 'survived']).size().unstack()\n",
    "\n",
    "# Plot\n",
    "age_group_survival.plot(kind='bar', stacked=True, color=['red', 'blue'])\n",
    "plt.xlabel(\"Age Group\")\n",
    "plt.ylabel(\"Passenger Count\")\n",
    "plt.title(\"Survival by Age Group\")\n",
    "plt.legend(title=\"Survived\", labels=[\"No\", \"Yes\"])\n",
    "plt.tight_layout()\n",
    "plt.show()\n"
   ]
  },
  {
   "cell_type": "markdown",
   "id": "319c3d2f",
   "metadata": {},
   "source": [
    "#### Other options\n",
    "\n",
    "Matplotlib and seaborn also allow you to do some level of customization. \n",
    "Read the documents here to change color/size/shape for your plot. Save your work to submit to the quiz later. \n",
    "\n",
    "https://matplotlib.org/2.1.1/api/_as_gen/matplotlib.pyplot.plot.html\n"
   ]
  },
  {
   "cell_type": "markdown",
   "id": "6d513f9e",
   "metadata": {},
   "source": [
    "### Conclusion\n",
    "\n",
    "- One categorical: bar plot\n",
    "- One continous: histogram/density plot/boxplot\n",
    "- Two continous: scatter plot\n",
    "- One categorical and one continous: side-by-side boxplot\n",
    "- Two categorical: side-by-side bar plot\n",
    "\n",
    "But, wait, why?\n",
    "\n",
    "In-class activities: discuss what other options you want to have for your plots?"
   ]
  },
  {
   "cell_type": "code",
   "execution_count": null,
   "id": "6941707d",
   "metadata": {},
   "outputs": [],
   "source": []
  }
 ],
 "metadata": {
  "kernelspec": {
   "display_name": "envrionment",
   "language": "python",
   "name": "python3"
  },
  "language_info": {
   "codemirror_mode": {
    "name": "ipython",
    "version": 3
   },
   "file_extension": ".py",
   "mimetype": "text/x-python",
   "name": "python",
   "nbconvert_exporter": "python",
   "pygments_lexer": "ipython3",
   "version": "3.13.5"
  },
  "widgets": {
   "application/vnd.jupyter.widget-state+json": {
    "state": {},
    "version_major": 2,
    "version_minor": 0
   }
  }
 },
 "nbformat": 4,
 "nbformat_minor": 5
}
